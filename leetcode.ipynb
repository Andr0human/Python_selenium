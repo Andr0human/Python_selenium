{
 "cells": [
  {
   "cell_type": "markdown",
   "metadata": {},
   "source": [
    "Submit the solution of a problem on leetcode.com."
   ]
  },
  {
   "cell_type": "code",
   "execution_count": null,
   "metadata": {},
   "outputs": [],
   "source": [
    "# Importing modules.\n",
    "\n",
    "from selenium import webdriver\n",
    "from selenium.webdriver.chrome.service import Service\n",
    "from selenium.webdriver.common.by import By\n",
    "from selenium.webdriver.common.keys import Keys\n",
    "import time"
   ]
  },
  {
   "cell_type": "code",
   "execution_count": null,
   "metadata": {},
   "outputs": [],
   "source": [
    "# Setup driver and open the website\n",
    "\n",
    "URL = 'https://www.leetcode.com'\n",
    "DRIVER_PATH = 'C:\\\\Users\\\\ayush\\\\Downloads\\\\chromedriver.exe'\n",
    "\n",
    "chrome_driver_path = Service(DRIVER_PATH)\n",
    "driver = webdriver.Chrome(service=chrome_driver_path)\n",
    "driver.get(URL)"
   ]
  },
  {
   "cell_type": "code",
   "execution_count": null,
   "metadata": {},
   "outputs": [],
   "source": [
    "def wait_for_element(driver, xpath, interval=0.1):\n",
    "    # Check for the element in a regular interval.\n",
    "    # Returns when the element is found.\n",
    "\n",
    "    cnt = 0\n",
    "    while True:\n",
    "        x = driver.find_elements(By.XPATH, xpath)\n",
    "        time.sleep(interval)\n",
    "\n",
    "        cnt += 1\n",
    "        if len(x) > 0:\n",
    "            break\n",
    "\n",
    "    print(xpath, cnt)\n",
    "    return cnt"
   ]
  },
  {
   "cell_type": "code",
   "execution_count": null,
   "metadata": {},
   "outputs": [],
   "source": [
    "# Sign-in process\n",
    "\n",
    "XPATH_LOGIN_PAGE = '//div[@id=\"landing-page-app\"]/div/div[1]/div[3]/div[1]/div/div/div[2]/div/a[5]/span'\n",
    "XPATH_LOGIN = '//*[@id=\"id_login\"]'\n",
    "XPATH_PASSWORD = '//*[@id=\"id_password\"]'\n",
    "XPATH_SIGNIN_BUTTON = '//*[@id=\"signin_btn\"]'\n",
    "\n",
    "\n",
    "wait_for_element(driver, XPATH_LOGIN_PAGE)\n",
    "driver.find_element(By.XPATH, XPATH_LOGIN_PAGE).click()\n",
    "\n",
    "wait_for_element(driver, XPATH_LOGIN)\n",
    "driver.find_element(By.XPATH, XPATH_LOGIN).send_keys('user_name')\n",
    "\n",
    "wait_for_element(driver, XPATH_PASSWORD)\n",
    "driver.find_element(By.XPATH, XPATH_PASSWORD).send_keys('password')\n",
    "\n",
    "# Wait for the sign-in button to be clickable\n",
    "time.sleep(0.5)\n",
    "driver.find_element(By.XPATH, XPATH_SIGNIN_BUTTON).click()"
   ]
  },
  {
   "cell_type": "code",
   "execution_count": null,
   "metadata": {},
   "outputs": [],
   "source": [
    "# Go to problems page and select the problem to solve\n",
    "# Problem => Palindrome-number (https://leetcode.com/problems/palindrome-number/)\n",
    "\n",
    "PROBLEMSET_XPATH = '//*[@id=\"navbar-root\"]/div/div/div[1]/div[3]'\n",
    "PROBLEM_XPATH = '//div[@id=\"__next\"]/div/div[2]/div[1]/div[1]/div[6]/div[2]/div/div/div[2]/div[10]/div[2]/div/div/div/div/a'\n",
    "\n",
    "\n",
    "wait_for_element(driver, PROBLEMSET_XPATH)\n",
    "driver.find_element(By.XPATH, PROBLEMSET_XPATH).click()\n",
    "\n",
    "wait_for_element(driver, PROBLEM_XPATH)\n",
    "driver.find_element(By.XPATH, PROBLEM_XPATH).click()\n"
   ]
  },
  {
   "cell_type": "code",
   "execution_count": null,
   "metadata": {},
   "outputs": [],
   "source": [
    "# Retrieve the code from text_file\n",
    "\n",
    "def get_solution(file_name):\n",
    "    with open(file_name) as f:\n",
    "        return f.readlines()"
   ]
  },
  {
   "cell_type": "code",
   "execution_count": null,
   "metadata": {},
   "outputs": [],
   "source": [
    "# Write the code and Submit\n",
    "\n",
    "XPATH_EDITOR = '//*[@id=\"editor\"]/div[4]/div[1]/div/div/div[1]/textarea'\n",
    "XPATH_START_LINE = '//div[@id=\"editor\"]/div[4]/div[1]/div/div/div[1]/div[2]/div[1]/div[4]/div[4]'\n",
    "XPATH_RESET = '//*[@id=\"editor\"]/div[3]/div[2]/div/div[2]/button'\n",
    "XPATH_CONFIRM = '//*[@id=\"editor\"]/div[3]/div[2]/div/div[2]/div/div/div/div[2]/div/div[2]/div/div/div[2]/button'\n",
    "XPATH_SUBMIT = '//*[@id=\"qd-content\"]/div[3]/div/div[3]/div/div/div[3]/div/div/div[3]/button[3]'\n",
    "\n",
    "# Solution for the problem is in palin_num.txt\n",
    "solution = get_solution('palin_num.txt')\n",
    "sol_str = \"\".join(solution)\n",
    "\n",
    "# Possibility of an existing code for the problem, thus click reset.\n",
    "wait_for_element(driver, XPATH_RESET)\n",
    "driver.find_element(By.XPATH, XPATH_RESET).click()\n",
    "\n",
    "wait_for_element(driver, XPATH_CONFIRM)\n",
    "driver.find_element(By.XPATH, XPATH_CONFIRM).click()\n",
    "\n",
    "wait_for_element(driver, XPATH_START_LINE)\n",
    "driver.find_element(By.XPATH, XPATH_START_LINE).click()\n",
    "\n",
    "wait_for_element(driver, XPATH_EDITOR)\n",
    "driver.find_element(By.XPATH, XPATH_EDITOR).send_keys(sol_str)\n",
    "\n",
    "wait_for_element(driver, XPATH_SUBMIT)\n",
    "driver.find_element(By.XPATH, XPATH_SUBMIT).click()"
   ]
  }
 ],
 "metadata": {
  "kernelspec": {
   "display_name": "Python 3.11.0 64-bit",
   "language": "python",
   "name": "python3"
  },
  "language_info": {
   "codemirror_mode": {
    "name": "ipython",
    "version": 3
   },
   "file_extension": ".py",
   "mimetype": "text/x-python",
   "name": "python",
   "nbconvert_exporter": "python",
   "pygments_lexer": "ipython3",
   "version": "3.11.0"
  },
  "orig_nbformat": 4,
  "vscode": {
   "interpreter": {
    "hash": "c47ac78591731e064fc303bafce254c74216a7e4eca067feb16d8a0a9fb54b49"
   }
  }
 },
 "nbformat": 4,
 "nbformat_minor": 2
}
