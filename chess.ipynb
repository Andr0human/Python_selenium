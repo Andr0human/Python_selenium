{
 "cells": [
  {
   "cell_type": "markdown",
   "metadata": {},
   "source": [
    "Automate a chess-game in analysis tab using move-list on chess.com."
   ]
  },
  {
   "cell_type": "code",
   "execution_count": 74,
   "metadata": {},
   "outputs": [],
   "source": [
    "# Importing modules\n",
    "\n",
    "from selenium import webdriver\n",
    "from selenium.webdriver.chrome.service import Service\n",
    "from selenium.webdriver.common.by import By\n",
    "from selenium.webdriver.common.keys import Keys\n",
    "from selenium.webdriver.common.action_chains import ActionChains\n",
    "import time"
   ]
  },
  {
   "cell_type": "code",
   "execution_count": 75,
   "metadata": {},
   "outputs": [],
   "source": [
    "# Setup driver and open chess.com\n",
    "\n",
    "URL = 'https://www.chess.com'\n",
    "DRIVER_PATH = ''\n",
    "\n",
    "# Leave empty if driver is same path as the file\n",
    "chrome_driver_path = Service()\n",
    "driver = webdriver.Chrome(service=chrome_driver_path)\n",
    "driver.get(URL)"
   ]
  },
  {
   "cell_type": "code",
   "execution_count": 76,
   "metadata": {},
   "outputs": [],
   "source": [
    "# Go to learn menu and select analysis tab\n",
    "\n",
    "XPATH_LEARN = '//*[@id=\"sb\"]/div[3]/a[4]'\n",
    "XPATH_ANALYSIS = '//*[@id=\"board-layout-sidebar\"]/div/div[2]/div/a[7]/div[2]'\n",
    "\n",
    "\n",
    "driver.find_element(By.XPATH, XPATH_LEARN).click()\n",
    "driver.find_element(By.XPATH, XPATH_ANALYSIS).click()"
   ]
  },
  {
   "cell_type": "code",
   "execution_count": 77,
   "metadata": {},
   "outputs": [],
   "source": [
    "\n",
    "def gen_src_xpath(move):\n",
    "    return '//div[@class=\"piece ' + move[0] + \" square-\" + str(move[1]) + '\"]'\n",
    "\n",
    "def gen_dest_xpath(move):\n",
    "    dest = '//div[@class=\"'\n",
    "    \n",
    "    if len(move) > 3:\n",
    "        dest += \"capture-\"\n",
    "\n",
    "    dest += 'hint square-' + str(move[2]) + '\"]'\n",
    "    return dest\n",
    "\n",
    "move_list = [\n",
    "    ('wp', 52, 54), ('bp', 57, 55),\n",
    "    ('wn', 71, 63), ('bn', 28, 36),\n",
    "    ('wb', 61, 25), ('bn', 78, 66),\n",
    "    ('wk', 51, 71), ('bn', 66, 54, 'c'),\n",
    "    ('wp', 42, 44), ('bn', 54, 46),\n",
    "    ('wp', 44, 55, 'c'), ('bn', 46, 25, 'c'),\n",
    "    ('wp', 12, 14), ('bn', 25, 44),\n",
    "    ('wn', 63, 44, 'c'), ('bn', 36, 44, 'c'),\n",
    "    ('wq', 41, 44, 'c'), ('bp', 47, 45),\n",
    "    ('wp', 55, 46), ('bq', 48, 46, 'c'),\n",
    "    ('wq', 44, 54), ('bq', 46, 56),\n",
    "    ('wq', 54, 44), ('bq', 56, 46),\n",
    "    ('wq', 44, 54), ('bq', 46, 56),\n",
    "    ('wq', 54, 44), ('bq', 56, 46),\n",
    "]"
   ]
  },
  {
   "cell_type": "code",
   "execution_count": 78,
   "metadata": {},
   "outputs": [
    {
     "name": "stdout",
     "output_type": "stream",
     "text": [
      "move =  ('wp', 52, 54)\n",
      "//div[@class=\"piece wp square-52\"] //div[@class=\"hint square-54\"]\n",
      "move =  ('bp', 57, 55)\n",
      "//div[@class=\"piece bp square-57\"] //div[@class=\"hint square-55\"]\n",
      "move =  ('wn', 71, 63)\n",
      "//div[@class=\"piece wn square-71\"] //div[@class=\"hint square-63\"]\n",
      "move =  ('bn', 28, 36)\n",
      "//div[@class=\"piece bn square-28\"] //div[@class=\"hint square-36\"]\n",
      "move =  ('wb', 61, 25)\n",
      "//div[@class=\"piece wb square-61\"] //div[@class=\"hint square-25\"]\n",
      "move =  ('bn', 78, 66)\n",
      "//div[@class=\"piece bn square-78\"] //div[@class=\"hint square-66\"]\n",
      "move =  ('wk', 51, 71)\n",
      "//div[@class=\"piece wk square-51\"] //div[@class=\"hint square-71\"]\n",
      "move =  ('bn', 66, 54, 'c')\n",
      "//div[@class=\"piece bn square-66\"] //div[@class=\"capture-hint square-54\"]\n",
      "move =  ('wp', 42, 44)\n",
      "//div[@class=\"piece wp square-42\"] //div[@class=\"hint square-44\"]\n",
      "move =  ('bn', 54, 46)\n",
      "//div[@class=\"piece bn square-54\"] //div[@class=\"hint square-46\"]\n",
      "move =  ('wp', 44, 55, 'c')\n",
      "//div[@class=\"piece wp square-44\"] //div[@class=\"capture-hint square-55\"]\n",
      "move =  ('bn', 46, 25, 'c')\n",
      "//div[@class=\"piece bn square-46\"] //div[@class=\"capture-hint square-25\"]\n",
      "move =  ('wp', 12, 14)\n",
      "//div[@class=\"piece wp square-12\"] //div[@class=\"hint square-14\"]\n",
      "move =  ('bn', 25, 44)\n",
      "//div[@class=\"piece bn square-25\"] //div[@class=\"hint square-44\"]\n",
      "move =  ('wn', 63, 44, 'c')\n",
      "//div[@class=\"piece wn square-63\"] //div[@class=\"capture-hint square-44\"]\n",
      "move =  ('bn', 36, 44, 'c')\n",
      "//div[@class=\"piece bn square-36\"] //div[@class=\"capture-hint square-44\"]\n",
      "move =  ('wq', 41, 44, 'c')\n",
      "//div[@class=\"piece wq square-41\"] //div[@class=\"capture-hint square-44\"]\n",
      "move =  ('bp', 47, 45)\n",
      "//div[@class=\"piece bp square-47\"] //div[@class=\"hint square-45\"]\n",
      "move =  ('wp', 55, 46)\n",
      "//div[@class=\"piece wp square-55\"] //div[@class=\"hint square-46\"]\n",
      "move =  ('bq', 48, 46, 'c')\n",
      "//div[@class=\"piece bq square-48\"] //div[@class=\"capture-hint square-46\"]\n",
      "move =  ('wq', 44, 54)\n",
      "//div[@class=\"piece wq square-44\"] //div[@class=\"hint square-54\"]\n",
      "move =  ('bq', 46, 56)\n",
      "//div[@class=\"piece bq square-46\"] //div[@class=\"hint square-56\"]\n",
      "move =  ('wq', 54, 44)\n",
      "//div[@class=\"piece wq square-54\"] //div[@class=\"hint square-44\"]\n",
      "move =  ('bq', 56, 46)\n",
      "//div[@class=\"piece bq square-56\"] //div[@class=\"hint square-46\"]\n",
      "move =  ('wq', 44, 54)\n",
      "//div[@class=\"piece wq square-44\"] //div[@class=\"hint square-54\"]\n",
      "move =  ('bq', 46, 56)\n",
      "//div[@class=\"piece bq square-46\"] //div[@class=\"hint square-56\"]\n",
      "move =  ('wq', 54, 44)\n",
      "//div[@class=\"piece wq square-54\"] //div[@class=\"hint square-44\"]\n",
      "move =  ('bq', 56, 46)\n",
      "//div[@class=\"piece bq square-56\"] //div[@class=\"hint square-46\"]\n"
     ]
    }
   ],
   "source": [
    "# Automate the game using move-list.\n",
    "\n",
    "action = ActionChains(driver)\n",
    "\n",
    "# print(move_list)\n",
    "\n",
    "for move in move_list:\n",
    "\n",
    "    xpath_src = gen_src_xpath(move)\n",
    "    xpath_dest = gen_dest_xpath(move)\n",
    "\n",
    "    print(\"move = \", move)\n",
    "    print(xpath_src, xpath_dest)\n",
    "\n",
    "    src_elem = driver.find_element(By.XPATH, xpath_src)\n",
    "    \n",
    "    # src_elem needs to be clicked to show dest_elem\n",
    "    src_elem.click()\n",
    "    time.sleep(0.1)\n",
    "\n",
    "    dest_elem = driver.find_element(By.XPATH, xpath_dest)\n",
    "\n",
    "    action.reset_actions()\n",
    "    action.drag_and_drop(src_elem, dest_elem)\n",
    "    time.sleep(0.5)\n",
    "    action.perform()\n",
    "\n"
   ]
  }
 ],
 "metadata": {
  "kernelspec": {
   "display_name": "Python 3.11.0 64-bit",
   "language": "python",
   "name": "python3"
  },
  "language_info": {
   "codemirror_mode": {
    "name": "ipython",
    "version": 3
   },
   "file_extension": ".py",
   "mimetype": "text/x-python",
   "name": "python",
   "nbconvert_exporter": "python",
   "pygments_lexer": "ipython3",
   "version": "3.11.0"
  },
  "orig_nbformat": 4,
  "vscode": {
   "interpreter": {
    "hash": "c47ac78591731e064fc303bafce254c74216a7e4eca067feb16d8a0a9fb54b49"
   }
  }
 },
 "nbformat": 4,
 "nbformat_minor": 2
}
