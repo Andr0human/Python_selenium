{
 "cells": [
  {
   "cell_type": "markdown",
   "metadata": {},
   "source": [
    "Sign-in on LinkedIn and send a chat message to one of the connections."
   ]
  },
  {
   "cell_type": "code",
   "execution_count": 34,
   "metadata": {},
   "outputs": [],
   "source": [
    "# Importing Modules.\n",
    "\n",
    "from selenium import webdriver\n",
    "from selenium.webdriver.common.by import By\n",
    "from selenium.webdriver.common.keys import Keys\n",
    "import time"
   ]
  },
  {
   "cell_type": "code",
   "execution_count": 35,
   "metadata": {},
   "outputs": [
    {
     "name": "stderr",
     "output_type": "stream",
     "text": [
      "C:\\Users\\ayush\\AppData\\Local\\Temp\\ipykernel_16024\\270842752.py:1: DeprecationWarning: executable_path has been deprecated, please pass in a Service object\n",
      "  driver = webdriver.Chrome('C:\\\\Users\\\\ayush\\\\Downloads\\\\chromedriver.exe')\n"
     ]
    }
   ],
   "source": [
    "# Select chrome driver and open website.\n",
    "\n",
    "URL = 'https://in.linkedin.com/'\n",
    "\n",
    "driver = webdriver.Chrome()\n",
    "# for this to work you must have a gekodriver.exe in the same folder \n",
    "#where the main python file is located by doing this there is no need \n",
    "#to specify the path\n",
    "\n",
    "driver.get(URL)\n",
    "# use the X-path or the class name to find the Elements"
   ]
  },
  {
   "cell_type": "code",
   "execution_count": 36,
   "metadata": {},
   "outputs": [],
   "source": [
    "XPATH_USER_NAME = '//input[@id=\"session_key\"]'\n",
    "XPATH_PASSWORD = '//input[@id=\"session_password\"]'\n",
    "XPATH_SIGNIN = 'sign-in-form__submit-button'\n",
    "\n",
    "driver.find_element(By.XPATH, XPATH_USER_NAME).send_keys('mail_id')\n",
    "driver.find_element(By.XPATH, XPATH_PASSWORD).send_keys('password')\n",
    "\n",
    "time.sleep(0.5)\n",
    "\n",
    "driver.find_element(By.CLASS_NAME, XPATH_SIGNIN).click()\n",
    "\n",
    "time.sleep(3)\n"
   ]
  },
  {
   "cell_type": "code",
   "execution_count": 43,
   "metadata": {},
   "outputs": [],
   "source": [
    "# For chat box\n",
    "\n",
    "XPATH_SEARCH_BOX = '//input[@id=\"msg-overlay-list-bubble-search__search-typeahead-input\"]'\n",
    "XPATH_LIST = '//ul[@class=\"msg-overlay-list-bubble-search__connection-search-result-list\"]'\n",
    "XPATH_CHAT_BOX = '//div[@role=\"textbox\"]'\n",
    "XPATH_SUBMIT = '//button[@type=\"submit\"]'\n",
    "\n",
    "driver.find_element(By.XPATH, XPATH_SEARCH_BOX).clear()\n",
    "driver.find_element(By.XPATH, XPATH_SEARCH_BOX).send_keys('foo bar')\n",
    "\n",
    "\n",
    "time.sleep(2)\n",
    "\n",
    "driver.find_element(By.XPATH, XPATH_LIST).click()\n",
    "\n",
    "# Typing Hello msg to foo bar\n",
    "driver.find_element(By.XPATH, XPATH_CHAT_BOX).send_keys(\"Hello\")\n",
    "time.sleep(1)\n",
    "driver.find_element(By.XPATH, XPATH_SUBMIT).click()\n"
   ]
  }
 ],
 "metadata": {
  "kernelspec": {
   "display_name": "Python 3.11.0 64-bit",
   "language": "python",
   "name": "python3"
  },
  "language_info": {
   "codemirror_mode": {
    "name": "ipython",
    "version": 3
   },
   "file_extension": ".py",
   "mimetype": "text/x-python",
   "name": "python",
   "nbconvert_exporter": "python",
   "pygments_lexer": "ipython3",
   "version": "3.11.0"
  },
  "orig_nbformat": 4,
  "vscode": {
   "interpreter": {
    "hash": "c47ac78591731e064fc303bafce254c74216a7e4eca067feb16d8a0a9fb54b49"
   }
  }
 },
 "nbformat": 4,
 "nbformat_minor": 2
}
