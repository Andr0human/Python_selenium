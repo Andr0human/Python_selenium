{
 "cells": [
  {
   "cell_type": "markdown",
   "metadata": {},
   "source": [
    "Book a movie ticket from BookMyShow."
   ]
  },
  {
   "cell_type": "code",
   "execution_count": 10,
   "metadata": {},
   "outputs": [],
   "source": [
    "# Importing modules\n",
    "\n",
    "from selenium import webdriver\n",
    "from selenium.webdriver.chrome.service import Service\n",
    "from selenium.webdriver.common.by import By\n",
    "from selenium.webdriver.common.keys import Keys\n",
    "from selenium.webdriver.common.action_chains import ActionChains\n",
    "import time"
   ]
  },
  {
   "cell_type": "code",
   "execution_count": 11,
   "metadata": {},
   "outputs": [],
   "source": [
    "# Setup driver and open chess.com\n",
    "\n",
    "URL = 'https://www.bookmyshow.com'\n",
    "DRIVER_PATH = ''\n",
    "\n",
    "# Leave empty if driver is same path as the file\n",
    "chrome_driver_path = Service()\n",
    "driver = webdriver.Chrome(service=chrome_driver_path)\n",
    "driver.get(URL)"
   ]
  },
  {
   "cell_type": "code",
   "execution_count": 12,
   "metadata": {},
   "outputs": [],
   "source": [
    "#Select the city and login.\n",
    "\n",
    "XPATH_SEARCH_BOX = '//input[@type=\"text\"]'\n",
    "\n",
    "driver.find_element(By.XPATH, XPATH_SEARCH_BOX).send_keys('Delhi')\n",
    "\n",
    "time.sleep(0.5)\n",
    "driver.find_element(By.XPATH, XPATH_SEARCH_BOX).send_keys(Keys.RETURN)\n",
    "\n"
   ]
  }
 ],
 "metadata": {
  "kernelspec": {
   "display_name": "Python 3.11.0 64-bit",
   "language": "python",
   "name": "python3"
  },
  "language_info": {
   "codemirror_mode": {
    "name": "ipython",
    "version": 3
   },
   "file_extension": ".py",
   "mimetype": "text/x-python",
   "name": "python",
   "nbconvert_exporter": "python",
   "pygments_lexer": "ipython3",
   "version": "3.11.0"
  },
  "orig_nbformat": 4,
  "vscode": {
   "interpreter": {
    "hash": "c47ac78591731e064fc303bafce254c74216a7e4eca067feb16d8a0a9fb54b49"
   }
  }
 },
 "nbformat": 4,
 "nbformat_minor": 2
}
