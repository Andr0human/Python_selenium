{
 "cells": [
  {
   "cell_type": "markdown",
   "metadata": {},
   "source": [
    "Sign in to your gmail and retrieve OTP from a mail."
   ]
  },
  {
   "cell_type": "code",
   "execution_count": 139,
   "metadata": {},
   "outputs": [],
   "source": [
    "# Importing modules\n",
    "\n",
    "from selenium import webdriver\n",
    "from selenium_stealth import stealth\n",
    "from selenium.webdriver.chrome.service import Service\n",
    "from selenium.webdriver.common.by import By\n",
    "from selenium.webdriver.common.keys import Keys\n",
    "from selenium.webdriver.common.action_chains import ActionChains\n",
    "import time\n",
    "import random"
   ]
  },
  {
   "cell_type": "code",
   "execution_count": 140,
   "metadata": {},
   "outputs": [],
   "source": [
    "# Setup driver and open gmail\n",
    "\n",
    "\n",
    "options = webdriver.ChromeOptions()\n",
    "options.add_argument(\"--user-agent=Mozilla/5.0 (Windows NT 10.0; Win64; x64) AppleWebKit/537.36 (KHTML, like Gecko) Chrome/107.0.0.0 Safari/537.36\")\n",
    "options.add_experimental_option(\"excludeSwitches\", [\"enable-automation\"])\n",
    "options.add_experimental_option('useAutomationExtension', False)\n",
    "options.add_argument('--disable-blink-features=AutomationControlled')\n",
    "options.add_argument('--disable-web-security')\n",
    "options.add_argument('--allow-running-insecure-content')\n",
    "options.add_argument('--remote-debuggin-port=9222')\n",
    "# options.add_argument('--user-data-dir=\"C:\\\\localhost\"')\n",
    "# options.add_argument(\"--user-data-dir=C:\\\\Users\\\\ayush\\\\AppData\\\\Local\\\\Google\\\\Chrome\\\\User Data\\\\Default\")\n",
    "\n",
    "driver = webdriver.Chrome(options=options)\n",
    "stealth(driver,\n",
    "    languages=[\"en-US\", \"en\"],\n",
    "    vendor=\"Google Inc.\",\n",
    "    platform=\"Win32\",\n",
    "    webgl_vendor=\"Intel Inc.\",\n",
    "    renderer=\"Intel Iris OpenGL Engine\",\n",
    "    fix_hairline=True,\n",
    "    )\n",
    "\n",
    "driver.get('https://www.google.com')"
   ]
  },
  {
   "cell_type": "code",
   "execution_count": 141,
   "metadata": {},
   "outputs": [],
   "source": [
    "# Google to gmail login-page.\n",
    "\n",
    "XPATH_GOOGLE_SEARCH_BOX = '//input[@class=\"gLFyf\"][@title=\"Search\"]'\n",
    "XPATH_GMAIL = '//*[@id=\"rso\"]/div[1]/div/div/div/div/div/div/div[1]/a'\n",
    "XPATH_TO_SIGNIN = '/html/body/header/div/div/div/a[2]'\n",
    "\n",
    "time.sleep(1 + random.random())\n",
    "driver.find_element(By.LINK_TEXT, \"Gmail\").send_keys(Keys.CONTROL + Keys.RETURN)\n",
    "\n",
    "x = driver.window_handles[1]\n",
    "driver.close()\n",
    "driver.switch_to.window(x)\n",
    "\n",
    "\n",
    "time.sleep(1 + random.random())\n",
    "driver.find_element(By.XPATH, XPATH_TO_SIGNIN).click()\n"
   ]
  },
  {
   "cell_type": "code",
   "execution_count": 142,
   "metadata": {},
   "outputs": [],
   "source": [
    "def insert_id(driver, XPATH, id):\n",
    "    \n",
    "    driver.find_element(By.XPATH, XPATH).click()\n",
    "    \n",
    "    num = random.randrange(1, 4)\n",
    "    print(num)\n",
    "    if num % 2 == 0:\n",
    "        time.sleep(2 + random.random())\n",
    "        for elem in id:\n",
    "            driver.find_element(By.XPATH, XPATH).send_keys(elem)\n",
    "            time.sleep(random.random() * random.random())\n",
    "    else:\n",
    "        time.sleep(4 + random.random())\n",
    "        driver.find_element(By.XPATH, XPATH).send_keys(id)\n",
    "\n",
    "    # for elem in id:\n",
    "    #     driver.find_element(By.XPATH, XPATH).send_keys(elem)\n",
    "    #     time.sleep(random.random() * random.random())\n",
    "\n",
    "    time.sleep(random.random() * 3)\n",
    "    driver.find_element(By.XPATH, XPATH).send_keys(Keys.RETURN)\n",
    "\n",
    "\n",
    "def insert_id_success(driver, XPATH):\n",
    "\n",
    "    time.sleep(2)\n",
    "    x = driver.find_elements(By.XPATH, XPATH)\n",
    "\n",
    "    if len(x) == 0:\n",
    "        print('ID Accepted!')\n",
    "    else:\n",
    "        print('Attempt Failed! Retrying!')\n",
    "\n",
    "    return len(x) == 0"
   ]
  },
  {
   "cell_type": "code",
   "execution_count": 143,
   "metadata": {},
   "outputs": [
    {
     "name": "stdout",
     "output_type": "stream",
     "text": [
      "Attempt Failed! Retrying!\n",
      "Refreshing!\n",
      "Attempt Failed! Retrying!\n",
      "Refreshing!\n",
      "Attempt Failed! Retrying!\n",
      "Refreshing!\n",
      "Attempt Failed! Retrying!\n",
      "Refreshing!\n",
      "Attempt Failed! Retrying!\n"
     ]
    },
    {
     "ename": "KeyboardInterrupt",
     "evalue": "",
     "output_type": "error",
     "traceback": [
      "\u001b[1;31m---------------------------------------------------------------------------\u001b[0m",
      "\u001b[1;31mKeyboardInterrupt\u001b[0m                         Traceback (most recent call last)",
      "Cell \u001b[1;32mIn[143], line 17\u001b[0m\n\u001b[0;32m     14\u001b[0m     \u001b[39mbreak\u001b[39;00m\n\u001b[0;32m     16\u001b[0m driver\u001b[39m.\u001b[39mback()\n\u001b[1;32m---> 17\u001b[0m time\u001b[39m.\u001b[39;49msleep(\u001b[39m2\u001b[39;49m \u001b[39m+\u001b[39;49m random\u001b[39m.\u001b[39;49mrandom())\n\u001b[0;32m     19\u001b[0m \u001b[39mprint\u001b[39m(\u001b[39m\"\u001b[39m\u001b[39mRefreshing!\u001b[39m\u001b[39m\"\u001b[39m)\n\u001b[0;32m     20\u001b[0m driver\u001b[39m.\u001b[39mrefresh()\n",
      "\u001b[1;31mKeyboardInterrupt\u001b[0m: "
     ]
    }
   ],
   "source": [
    "# Enter gmail_id and password.\n",
    "\n",
    "XPATH_MAIL = '//input[@type=\"email\"]'\n",
    "XPATH_PASSWORD = '//*[@id=\"password\"]/div[1]/div/div[1]/input'\n",
    "USER_ID = 'skyshaw1903'\n",
    "USER_PASSWORD = '1903xshaw'\n",
    "\n",
    "XPATH_TRY_AGAIN = '//*[@id=\"next\"]/div/div/a'\n",
    "\n",
    "while True:\n",
    "    insert_id(driver, XPATH_MAIL, USER_ID)\n",
    "    \n",
    "    if (insert_id_success(driver, XPATH_TRY_AGAIN)):\n",
    "        break\n",
    "\n",
    "    driver.back()\n",
    "    time.sleep(2 + random.random())\n",
    "\n",
    "    print(\"Refreshing!\")\n",
    "    driver.refresh()\n",
    "\n",
    "while True:\n",
    "    insert_id(driver, XPATH_PASSWORD, USER_PASSWORD)\n",
    "    \n",
    "    if (insert_id_success(driver, XPATH_TRY_AGAIN)):\n",
    "        break\n",
    "\n",
    "    driver.back()\n",
    "    time.sleep(2 + random.random())\n",
    "\n",
    "    print(\"Refreshing!\")\n",
    "    driver.refresh()\n"
   ]
  },
  {
   "cell_type": "code",
   "execution_count": null,
   "metadata": {},
   "outputs": [
    {
     "name": "stdout",
     "output_type": "stream",
     "text": [
      "LeetCode\n",
      "Inbox\n",
      "sky_shaw, Join Your First Contest and Win 200 LeetCoins!\n",
      " - \n",
      "Join Your First Contest! Saturday, December 3 ﻿﻿Don't think you're ready for interviews yet? Contests are the best way to gauge how well-prepared you are and to simulate the environment of a\n",
      "  12:02 PM\n",
      "LeetCode\n",
      "Inbox\n",
      "LeetCode Weekly Digest\n",
      " - \n",
      "as a LeetCode polo shirt. Happy LeetCoding! Top Picks For You Question Palindrome Linked List Given the head of a singly\n",
      "  10:57 AM\n",
      "LeetCode\n",
      "Inbox\n",
      "[LeetCode] Confirm E-mail Address\n",
      " - \n",
      "up with LeetCode! You must follow this link to activate your account: https://leetcode.com/accounts/confirm-email\n",
      "  Nov 30\n"
     ]
    }
   ],
   "source": [
    "SENDER = 'bookmyshow'\n",
    "XPATH_MAIL_SEARCH_BOX = '//*[@id=\"gs_lc50\"]/input[1]'\n",
    "XPATH_ROW = '//tr[@role=\"row\"]'\n",
    "\n",
    "driver.find_element(By.XPATH, XPATH_MAIL_SEARCH_BOX).click()\n",
    "driver.find_element(By.XPATH, XPATH_MAIL_SEARCH_BOX).send_keys(SENDER, Keys.RETURN)\n",
    "\n",
    "time.sleep(1.5)\n",
    "x = driver.find_elements(By.XPATH, XPATH_ROW)\n",
    "\n",
    "for elem in x:\n",
    "    if len(elem.text) > 0:\n",
    "        print(elem.text)\n",
    "        break\n"
   ]
  }
 ],
 "metadata": {
  "kernelspec": {
   "display_name": "Python 3.11.0 64-bit",
   "language": "python",
   "name": "python3"
  },
  "language_info": {
   "codemirror_mode": {
    "name": "ipython",
    "version": 3
   },
   "file_extension": ".py",
   "mimetype": "text/x-python",
   "name": "python",
   "nbconvert_exporter": "python",
   "pygments_lexer": "ipython3",
   "version": "3.11.0"
  },
  "orig_nbformat": 4,
  "vscode": {
   "interpreter": {
    "hash": "c47ac78591731e064fc303bafce254c74216a7e4eca067feb16d8a0a9fb54b49"
   }
  }
 },
 "nbformat": 4,
 "nbformat_minor": 2
}
