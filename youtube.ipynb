{
 "cells": [
  {
   "cell_type": "markdown",
   "metadata": {},
   "source": [
    "Play a youtube video at a specific point from a playlist."
   ]
  },
  {
   "cell_type": "code",
   "execution_count": 2,
   "metadata": {},
   "outputs": [],
   "source": [
    "# Importing modules\n",
    "\n",
    "from selenium import webdriver\n",
    "from selenium.webdriver.chrome.service import Service\n",
    "from selenium.webdriver.common.by import By\n",
    "from selenium.webdriver.common.keys import Keys\n",
    "from selenium.webdriver.common.action_chains import ActionChains\n",
    "import time"
   ]
  },
  {
   "cell_type": "code",
   "execution_count": 3,
   "metadata": {},
   "outputs": [],
   "source": [
    "# Open youtube.com\n",
    "# Select chromium_driver\n",
    "\n",
    "URL = 'https://www.youtube.com'\n",
    "DRIVER_PATH = 'C:\\\\Users\\\\ayush\\\\Downloads\\\\chromedriver.exe'\n",
    "\n",
    "\n",
    "chrome_driver_path = Service(DRIVER_PATH)\n",
    "driver = webdriver.Chrome(service=chrome_driver_path)\n",
    "driver.get(URL)"
   ]
  },
  {
   "cell_type": "code",
   "execution_count": 4,
   "metadata": {},
   "outputs": [],
   "source": [
    "def wait_for_element(driver, xpath, interval=0.1, max_time = 10):\n",
    "    # Check for the element in a regular interval.\n",
    "    # Returns when the element is found.\n",
    "\n",
    "    max_cnt = max_time // interval\n",
    "    cnt = 0\n",
    "\n",
    "    while True:\n",
    "        x = driver.find_elements(By.XPATH, xpath)\n",
    "        time.sleep(interval)\n",
    "\n",
    "        cnt += 1\n",
    "        if len(x) > 0:\n",
    "            break\n",
    "\n",
    "        if cnt > max_cnt:\n",
    "            print(\"Element not found in time_frame!\")\n",
    "            return -1\n",
    "\n",
    "    print(xpath, cnt)\n",
    "    return cnt"
   ]
  },
  {
   "cell_type": "code",
   "execution_count": 5,
   "metadata": {},
   "outputs": [
    {
     "name": "stdout",
     "output_type": "stream",
     "text": [
      "//input[@id=\"search\"] 1\n"
     ]
    }
   ],
   "source": [
    "# Enter the title in search box\n",
    "\n",
    "XPATH_SEARCH_BAR = '//input[@id=\"search\"]'\n",
    "\n",
    "\n",
    "wait_for_element(driver, XPATH_SEARCH_BAR)\n",
    "driver.find_element(By.XPATH, XPATH_SEARCH_BAR).click()\n",
    "driver.find_element(By.XPATH, XPATH_SEARCH_BAR).clear()\n",
    "driver.find_element(By.XPATH, XPATH_SEARCH_BAR).send_keys(\"web dev course\", Keys.RETURN)\n"
   ]
  },
  {
   "cell_type": "code",
   "execution_count": 6,
   "metadata": {},
   "outputs": [
    {
     "name": "stdout",
     "output_type": "stream",
     "text": [
      "//span[@id=\"video-title\"][@title=\"Complete Web Development Course\"] 6\n",
      "//*[@id=\"video-title\"][@title=\"Introduction to functional Programming ft Pure Functions\"] 4\n"
     ]
    }
   ],
   "source": [
    "# Select the playlist and video.\n",
    "XPATH_PLAYLIST = '//span[@id=\"video-title\"][@title=\"Complete Web Development Course\"]'\n",
    "XPATH_VIDEO = '//*[@id=\"video-title\"][@title=\"Introduction to functional Programming ft Pure Functions\"]'\n",
    "\n",
    "wait_for_element(driver, XPATH_PLAYLIST)\n",
    "driver.find_element(By.XPATH, XPATH_PLAYLIST).click()\n",
    "\n",
    "wait_for_element(driver, XPATH_VIDEO)\n",
    "driver.find_element(By.XPATH, XPATH_VIDEO).click()"
   ]
  },
  {
   "cell_type": "code",
   "execution_count": 7,
   "metadata": {},
   "outputs": [],
   "source": [
    "\n",
    "# Select the slider and drag it right to forward the video.\n",
    "\n",
    "XPATH_SLIDER = '//*[@id=\"movie_player\"]/div[32]/div[1]/div[2]/div[6]'\n",
    "\n",
    "slider = driver.find_element(By.XPATH, XPATH_SLIDER)\n",
    "\n",
    "action = ActionChains(driver)\n",
    "action.click_and_hold(on_element=slider)\n",
    "action.move_by_offset(100, 0)\n",
    "action.release()\n",
    "action.perform()"
   ]
  }
 ],
 "metadata": {
  "kernelspec": {
   "display_name": "Python 3.11.0 64-bit",
   "language": "python",
   "name": "python3"
  },
  "language_info": {
   "codemirror_mode": {
    "name": "ipython",
    "version": 3
   },
   "file_extension": ".py",
   "mimetype": "text/x-python",
   "name": "python",
   "nbconvert_exporter": "python",
   "pygments_lexer": "ipython3",
   "version": "3.11.0"
  },
  "orig_nbformat": 4,
  "vscode": {
   "interpreter": {
    "hash": "c47ac78591731e064fc303bafce254c74216a7e4eca067feb16d8a0a9fb54b49"
   }
  }
 },
 "nbformat": 4,
 "nbformat_minor": 2
}
